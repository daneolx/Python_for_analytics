{
  {
   "cell_type": "markdown",
   "metadata": {},
   "source": [
    "## 1. Agregue el elemento 5 a la siguiente lista lt_num\n",
    "\n",
    "num = 5\n",
    "\n",
    "lt_num = [1,2,3,4]"
   ]
  },
  {
   "cell_type": "code",
   "execution_count": 12,
   "metadata": {},
   "outputs": [
    {
     "name": "stdout",
     "output_type": "stream",
     "text": [
      "[1, 2, 3, 4, 5]\n"
     ]
    }
   ],
   "source": [
    "num = 5\n",
    "lt_num = [1,2,3,4]\n",
    "lt_num.append(num)\n",
    "print(lt_num)"
   ]
  },
  {
   "cell_type": "markdown",
   "metadata": {},
   "source": [
    "## 2. Declare un diccionario y agregue los siguientes elementos\n",
    "\n",
    "'Juan' = 'A'\n",
    "\n",
    "'Pedro'= 'B'\n",
    "\n",
    "'Ana' = 'A'\n",
    "\n",
    "'Jose' = 'C'\n",
    "\n",
    "'Pepe' = A"
   ]
  },
  {
   "cell_type": "code",
   "execution_count": 38,
   "metadata": {},
   "outputs": [
    {
     "name": "stdout",
     "output_type": "stream",
     "text": [
      "{'Juan': 'A', 'Pedro': 'B', 'Ana': 'A', 'Jose': 'C', 'Pepe': 'A'} <class 'dict'>\n"
     ]
    }
   ],
   "source": [
    "nombres = {'Juan':'A','Pedro':'B', 'Ana':'A', 'Jose':'C', 'Pepe':'A'}\n",
    "print(nombres, type(nombres))"
   ]
  },
  {
   "cell_type": "markdown",
   "metadata": {},
   "source": [
    "## 3. Del diccionario anterior obtenga una lista con los nombres de los alumnos que sacaron A"
   ]
  },
  {
   "cell_type": "code",
   "execution_count": 59,
   "metadata": {},
   "outputs": [
    {
     "name": "stdout",
     "output_type": "stream",
     "text": [
      "['Juan', 'Ana', 'Pepe']\n"
     ]
    }
   ],
   "source": [
    "lista_nombres = list(nombres)\n",
    "nueva_lista= []\n",
    "for key, value in nombres.items():\n",
    "    if value == \"A\":\n",
    "        nueva_lista.append(key)\n",
    "\n",
    "\n",
    "print(nueva_lista)"
   ]
  },
  {
   "cell_type": "markdown",
   "metadata": {},
   "source": [
    "## 4. Encuntra la diferencia de la diagonal principal y la diagonal secundaria\n",
    "\n",
    "1 2 3\n",
    "4 5 6\n",
    "9 8 9 \n",
    "\n",
    "matriz = [[1,2,3], [4,5,6], [9,8,9]]"
   ]
  },
  {
   "cell_type": "code",
   "execution_count": 61,
   "metadata": {},
   "outputs": [
    {
     "name": "stdout",
     "output_type": "stream",
     "text": [
      "2\n"
     ]
    }
   ],
   "source": [
    "n = 3 \n",
    "a = [[1,2,3], [4,5,6], [5,8,9]]\n",
    "sum_first_diagonal = sum(a[i][i] for i in range(n))  \n",
    "sum_second_diagonal=sum([a[i][j] for i in range(n) for j in range(n) if i+j==n-1])\n",
    "difere = sum_first_diagonal - sum_second_diagonal\n",
    "print(difere)"
   ]
  },
  {
   "cell_type": "code",
   "execution_count": null,
   "metadata": {},
   "outputs": [],
   "source": []
  }
 ],
 "metadata": {
  "kernelspec": {
   "display_name": "Python 3",
   "language": "python",
   "name": "python3"
  },
  "language_info": {
   "codemirror_mode": {
    "name": "ipython",
    "version": 3
   },
   "file_extension": ".py",
   "mimetype": "text/x-python",
   "name": "python",
   "nbconvert_exporter": "python",
   "pygments_lexer": "ipython3",
   "version": "3.7.3"
  }
 },
 "nbformat": 4,
 "nbformat_minor": 2
}
